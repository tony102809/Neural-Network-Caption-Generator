{
  "nbformat": 4,
  "nbformat_minor": 0,
  "metadata": {
    "colab": {
      "provenance": []
    },
    "kernelspec": {
      "name": "python3",
      "display_name": "Python 3"
    },
    "language_info": {
      "name": "python"
    }
  },
  "cells": [
    {
      "cell_type": "code",
      "execution_count": 3,
      "metadata": {
        "id": "lOeBxsdSTROC"
      },
      "outputs": [],
      "source": [
        "# Import libraries\n",
        "import numpy as np\n",
        "import matplotlib.pyplot as plt\n",
        "\n",
        "import torch\n",
        "from torch import nn, optim\n",
        "from torch.nn import functional; nn.f = functional\n",
        "from torch.nn.utils.rnn import pad_sequence\n",
        "from torch.optim import lr_scheduler\n",
        "from torchvision import datasets, transforms\n",
        "import string\n",
        "import torchvision\n",
        "from torchsummary import summary\n",
        "from torch.utils.data import Dataset, DataLoader\n",
        "\n",
        "device = 'cuda:0' if torch.cuda.is_available() else 'cpu'"
      ]
    },
    {
      "cell_type": "code",
      "source": [
        "# Batch options\n",
        "batch_size = 128  # input batch size for training\n",
        "test_batch = 1    # test batch size\n",
        "\n",
        "# Normalizes the input images for a better training\n",
        "data_transform = transforms.Compose([\n",
        "        transforms.ToTensor(),\n",
        "        transforms.Normalize((0.1307,), (0.3081,))\n",
        "    ])\n",
        "\n",
        "# Get train and test loaders to load MNIST data\n",
        "trainset = datasets.MNIST(root='.', train=True, download=True, transform=data_transform)\n",
        "testset = datasets.MNIST(root='.', train=False, download=True, transform=data_transform)\n",
        "\n",
        "# Create the dataloaders on which we can iterate to get the data in batch_size chunks\n",
        "train_loader = torch.utils.data.DataLoader(trainset, batch_size=batch_size, shuffle=True, num_workers=0)\n",
        "test_loader  = torch.utils.data.DataLoader(testset, batch_size=test_batch, shuffle=False, num_workers=0)"
      ],
      "metadata": {
        "id": "ETgYHEFoT0Yj"
      },
      "execution_count": 4,
      "outputs": []
    },
    {
      "cell_type": "code",
      "source": [
        "labelDict = None\n",
        "vocab = None\n",
        "# Creating dictionary and Lookup Table ###########################################\n",
        "labelDict = {\n",
        "    0: \"<b>zero<e>\",\n",
        "    1: \"<b>one<e>\",\n",
        "    2: \"<b>two<e>\",\n",
        "    3: \"<b>three<e>\",\n",
        "    4: \"<b>four<e>\",\n",
        "    5: \"<b>five<e>\",\n",
        "    6: \"<b>six<e>\",\n",
        "    7: \"<b>seven<e>\",\n",
        "    8: \"<b>eight<e>\",\n",
        "    9: \"<b>nine<e>\"\n",
        "}\n",
        "characters = set()\n",
        "for word in labelDict.values():\n",
        "    word_clean = word[3:-3]  # Strip the boundary tokens\n",
        "    characters.update(word_clean)\n",
        "\n",
        "vocab = ['<b>', '<e>'] + sorted(characters)\n",
        "\n",
        "################################################################################\n",
        "vocab.sort()\n",
        "vocab_size = len(vocab)\n",
        "print(vocab)\n",
        "\n",
        "# Testing\n",
        "assert(vocab_size == 17)\n",
        "assert(len(labelDict) == 10)"
      ],
      "metadata": {
        "colab": {
          "base_uri": "https://localhost:8080/"
        },
        "id": "QAhYFGB3UDj3",
        "outputId": "3894ede3-2075-4823-d3a4-3f96dedc3d41"
      },
      "execution_count": 5,
      "outputs": [
        {
          "output_type": "stream",
          "name": "stdout",
          "text": [
            "['<b>', '<e>', 'e', 'f', 'g', 'h', 'i', 'n', 'o', 'r', 's', 't', 'u', 'v', 'w', 'x', 'z']\n"
          ]
        }
      ]
    },
    {
      "cell_type": "code",
      "source": [
        "# Some utility functions to check if code is working as intended\n",
        "def assert_encoding(actual, expected):\n",
        "  assert(type(actual) == type(torch.tensor(0)))\n",
        "  if(not((expected.numpy() == actual.numpy()).all())):\n",
        "    print('expected: ', expected)\n",
        "    print('actual: ', actual)\n",
        "    assert((expected.numpy() == actual.numpy()).all())\n",
        "\n",
        "# Utility function to assert shape of a tensor, for debugging purpose\n",
        "def shapeChecker(x, y):\n",
        "  assert(x.shape == y.shape)\n",
        "\n",
        "# Get the index of a token in the vocab\n",
        "def get_idx(letter):\n",
        "    return [i for i, x in enumerate(vocab) if (letter == x)][0]"
      ],
      "metadata": {
        "id": "QHzA8fucUFZz"
      },
      "execution_count": 6,
      "outputs": []
    },
    {
      "cell_type": "code",
      "source": [
        "# Function to convert a list of labels to a list of one-hot matrix\n",
        "def label_to_onehot_sequence(label):\n",
        "    # Retrieve the tokenized string for the given label from labelDict\n",
        "    tokenized_string = labelDict[label.item()]\n",
        "\n",
        "    # Handle the tokens properly, treating '<b>' and '<e>' as single tokens\n",
        "    tokens = []\n",
        "    i = 0\n",
        "    while i < len(tokenized_string):\n",
        "        if tokenized_string[i] == '<':  # Detect the start of a special token\n",
        "            end_idx = tokenized_string.find('>', i + 1)\n",
        "            tokens.append(tokenized_string[i:end_idx + 1])\n",
        "            i = end_idx + 1\n",
        "        else:\n",
        "            tokens.append(tokenized_string[i])\n",
        "            i += 1\n",
        "\n",
        "    # Convert the tokens into a list of indices based on the vocab\n",
        "    indices = [vocab.index(token) for token in tokens]\n",
        "\n",
        "    # Convert list of indices to a tensor\n",
        "    indices_tensor = torch.tensor(indices, dtype=torch.long)\n",
        "\n",
        "    # Generate a one-hot encoded tensor from the indices_tensor using nn.f.one_hot\n",
        "    one_hot_encoded = nn.f.one_hot(indices_tensor, num_classes=len(vocab))\n",
        "\n",
        "    return one_hot_encoded\n",
        "\n",
        "\n",
        "assert_encoding(label_to_onehot_sequence(torch.tensor(3)),\n",
        "  torch.tensor([[\n",
        "    [1, 0, 0, 0, 0, 0, 0, 0, 0, 0, 0, 0, 0, 0, 0, 0, 0],   # <b>\n",
        "    [0, 0, 0, 0, 0, 0, 0, 0, 0, 0, 0, 1, 0, 0, 0, 0, 0],   #  t\n",
        "    [0, 0, 0, 0, 0, 1, 0, 0, 0, 0, 0, 0, 0, 0, 0, 0, 0],   #  h\n",
        "    [0, 0, 0, 0, 0, 0, 0, 0, 0, 1, 0, 0, 0, 0, 0, 0, 0],   #  r\n",
        "    [0, 0, 1, 0, 0, 0, 0, 0, 0, 0, 0, 0, 0, 0, 0, 0, 0],   #  e\n",
        "    [0, 0, 1, 0, 0, 0, 0, 0, 0, 0, 0, 0, 0, 0, 0, 0, 0],   #  e\n",
        "    [0, 1, 0, 0, 0, 0, 0, 0, 0, 0, 0, 0, 0, 0, 0, 0, 0]]], # <e>\n",
        "    dtype=torch.float32))"
      ],
      "metadata": {
        "id": "-iXxtMXcUIRG"
      },
      "execution_count": 7,
      "outputs": []
    },
    {
      "cell_type": "code",
      "source": [
        "def batch_of_labels_to_onehot_matrix(labels):\n",
        "    # Convert labels to one-hot tensors\n",
        "    onehot_inputs = [label_to_onehot_sequence(label) for label in labels]\n",
        "\n",
        "    # Pad the length of string since, matrix operation requires fixed-size rows\n",
        "    max_len = max(len(onehot) for onehot in onehot_inputs)\n",
        "    padded_onehot = pad_sequence(onehot_inputs, batch_first=True, padding_value= 0)\n",
        "    return max_len, padded_onehot\n",
        "\n",
        "# Convert label to label onehot - used in the next to feed argmax input to RNN\n",
        "def label_to_onehot(target):\n",
        "    return nn.f.one_hot(target, num_classes=10).to(torch.float32)\n"
      ],
      "metadata": {
        "id": "OK6uaB0AUVxb"
      },
      "execution_count": 8,
      "outputs": []
    },
    {
      "cell_type": "code",
      "source": [
        "# To convert token indices predicted by our model back to characters and form the word\n",
        "def token_idx_to_token(input):\n",
        "\n",
        "    # Convert list of token idx to '<b>φ<e>' ##################################\n",
        "    result = ''.join(vocab[idx] for idx in input)\n",
        "    return result\n",
        "    # For each index in the input list, get the corresponding token from vocab, to build the output word\n",
        "    # example input -> [ 0, 3, 6, 13, 2,  1] -> '<b>five<e>'\n",
        "    #                    ⬇ ⬇ ⬇   ⬇ ⬇  ⬇\n",
        "    #                   <b> f  i   v  e  <e>\n",
        "    return None\n",
        "\n",
        "assert(token_idx_to_token([0, 3,  6, 13,  2,  1]) == '<b>five<e>')"
      ],
      "metadata": {
        "id": "IulSRHXcUZM2"
      },
      "execution_count": 9,
      "outputs": []
    },
    {
      "cell_type": "code",
      "source": [
        "def visualise_images(train_loader, num_images=10):\n",
        "    # Fetch a single batch of images\n",
        "    dataiter = iter(train_loader)\n",
        "    images, labels = dataiter.__next__()  # Use __next__() instead of next()\n",
        "\n",
        "    # Set up the matplotlib figure and axes\n",
        "    fig, axes = plt.subplots(1, num_images, figsize=(15, 3))  # Adjust size as needed\n",
        "\n",
        "    # Display the first 'num_images' images\n",
        "    for i in range(num_images):\n",
        "        ax = axes[i]\n",
        "        img = images[i]  # Get the image tensor\n",
        "        label = labels[i].item()  # Get the label as a Python value\n",
        "\n",
        "        # Convert image tensor to numpy for display\n",
        "        npimg = img.numpy()\n",
        "        # Handle images with more than one color channel\n",
        "        if img.shape[0] > 1:\n",
        "            npimg = np.transpose(npimg, (1, 2, 0))  # Rearrange dimensions to (H, W, C)\n",
        "        else:\n",
        "            npimg = npimg.squeeze()  # Remove single-dimensional entries from the array\n",
        "\n",
        "        # Show the image\n",
        "        ax.imshow(npimg, cmap='gray')\n",
        "        # Set the title to the token sequence from labelDict\n",
        "        ax.set_title(f\"{labelDict[label]}\")\n",
        "        ax.axis('off')  # Hide axes ticks\n",
        "\n",
        "    plt.show()\n",
        "\n",
        "# Call the function to visualize the images along with the label\n",
        "visualise_images(train_loader)  # Assuming `train_loader` is your DataLoader object"
      ],
      "metadata": {
        "colab": {
          "base_uri": "https://localhost:8080/",
          "height": 157
        },
        "id": "WtF5f79cUcCk",
        "outputId": "8b51bbec-a8b1-48a5-e85e-c20c6a8a3aec"
      },
      "execution_count": 10,
      "outputs": [
        {
          "output_type": "display_data",
          "data": {
            "text/plain": [
              "<Figure size 1500x300 with 10 Axes>"
            ],
            "image/png": "[encoded data removed]"
          },
          "metadata": {}
        }
      ]
    },
    {
      "cell_type": "code",
      "source": [
        "# Utility function to print statistics for debugging as well as modifies target and output for accuracy calculation\n",
        "def trainUtility(batch_idx, epoch, output, target, padded_onehot):\n",
        "    # Printing statistics for easy debugging\n",
        "    if batch_idx == 1 or (epoch != None and epoch%500==0):\n",
        "        _, pred_idx = torch.max(output, dim=-1)\n",
        "        _, true_idx = torch.max(padded_onehot[:, 1:, :], dim=-1)\n",
        "        print('acc: ', torch.sum(pred_idx == true_idx)/(pred_idx.shape[0]*pred_idx.shape[1]))\n",
        "        print(pred_idx[0, :], true_idx[0, :])\n",
        "\n",
        "    # Converting output of size (batch_size x max_word_length-1 x vocab_size) -> ((batch_size*(max_word_length-1)) x vocab_size)\n",
        "    output =  output.view(-1, vocab_size)\n",
        "    # Converting the true labels to ((batch_size*(max_word_length-1)) x vocab_size)\n",
        "    # omitting the first character since, this is not getting predicted by the model\n",
        "    target = padded_onehot[:, 1:, :].reshape(-1, vocab_size)\n",
        "\n",
        "    return output, target"
      ],
      "metadata": {
        "id": "fkju4638UhPg"
      },
      "execution_count": 11,
      "outputs": []
    },
    {
      "cell_type": "code",
      "source": [
        "class RnnTrainingDataset(Dataset):\n",
        "    \"\"\"Dataset to get a tuple of one-hot matrix for each label (batch_size x 10)\n",
        "       and corresponding one-hot matrix of words (batch_size x max_word_length - 1 x vocab_size)\"\"\"\n",
        "\n",
        "    def __init__(self):\n",
        "        \"\"\"\n",
        "        Arguments:\n",
        "        \"\"\"\n",
        "        self.X = label_to_onehot(torch.tensor([x for x in range(10)]))\n",
        "        _, self.Y = batch_of_labels_to_onehot_matrix(torch.tensor([x for x in range(10)]))\n",
        "\n",
        "\n",
        "    def __len__(self):\n",
        "        return 10 # There are only 10 words\n",
        "\n",
        "    def __getitem__(self, idx):\n",
        "        return (self.X[idx], self.Y[idx])\n",
        "\n",
        "rnn_dataset = RnnTrainingDataset()\n",
        "rnn_dataloader = torch.utils.data.DataLoader(rnn_dataset, batch_size=10, shuffle=True)\n",
        "rnn_testloader = torch.utils.data.DataLoader(rnn_dataset, batch_size=1, shuffle=True)\n"
      ],
      "metadata": {
        "id": "1v2AMd7UUl8S"
      },
      "execution_count": 12,
      "outputs": []
    },
    {
      "cell_type": "code",
      "source": [
        "# Function which does the training for number of epochs and model and type of model passed\n",
        "def train(num_epochs, optimiser, model, dataloader=train_loader, mode='ENCODER'):\n",
        "    model.to(device)\n",
        "    model.train()\n",
        "    criterion = torch.nn.CrossEntropyLoss()\n",
        "    lr_list = []\n",
        "    for epoch in range(num_epochs):\n",
        "      for batch_idx, (data, target) in enumerate(dataloader):\n",
        "          data = data.to(device)\n",
        "          target = target.to(device)\n",
        "          optimiser.zero_grad()\n",
        "\n",
        "          loss = None\n",
        "          output = None\n",
        "\n",
        "\n",
        "          if(mode == 'ENCODER'): # CNN classifier\n",
        "                criterion = torch.nn.CrossEntropyLoss()\n",
        "                output = model(data)  # Forward pass: compute the model output\n",
        "                loss = criterion(output, target)  # Calculate loss: Cross entropy loss for classification\n",
        "                loss.backward()  # Backpropagation\n",
        "                optimiser.step()  # Optimization step\n",
        "\n",
        "\n",
        "          elif mode == 'DECODER':  # Overfitting RNN\n",
        "              # Process inputs and targets\n",
        "              input_sequence = target[:, :-1, :]  # Exclude the last token for prediction purposes\n",
        "              output = model(data, input_sequence)  # Generate output from the model\n",
        "\n",
        "              # Adjust the target to exclude the first token for training comparison\n",
        "              adjusted_target = target[:, 1:].argmax(dim=-1)  # Convert to class indices for loss calculation\n",
        "\n",
        "              # Ensure output and adjusted target have the same sequence length\n",
        "              if output.shape[1] != adjusted_target.shape[1]:\n",
        "                  # If not, it's likely the output is missing the last sequence element\n",
        "                  output = output[:, :adjusted_target.shape[1], :]\n",
        "\n",
        "              # Flatten output and adjusted target for loss calculation\n",
        "              output_flat = output.reshape(-1, output.shape[-1])\n",
        "              adjusted_target_flat = adjusted_target.reshape(-1)\n",
        "\n",
        "              # Calculate loss\n",
        "              loss = criterion(output_flat, adjusted_target_flat)\n",
        "              loss.backward()  # Backpropagate the loss\n",
        "              optimiser.step()  # Update the model parameters\n",
        "\n",
        "              print(\"Output flat shape:\", output_flat.shape)\n",
        "              print(\"Adjusted target flat shape:\", adjusted_target_flat.shape)\n",
        "\n",
        "\n",
        "          if (batch_idx+1) % 100 == 0 or (mode == 'DECODER' and epoch%500 == 0):\n",
        "            print ('Epoch [{}/{}], Step [{}/{}], Loss: {:.4f}'\n",
        "                   .format(epoch+1, num_epochs, batch_idx+1, len(dataloader), loss.item()))"
      ],
      "metadata": {
        "id": "vkj7Jz9eUrCE"
      },
      "execution_count": 22,
      "outputs": []
    },
    {
      "cell_type": "code",
      "source": [
        "def evaluate(model, dataloader=test_loader, mode='ENCODER'):\n",
        "    # Never forget to change model to eval mode using eval(), this freezes the model weights for updates\n",
        "    model.to(device)\n",
        "    model.eval()\n",
        "    test_loss = 0\n",
        "    correct = 0\n",
        "    for data, target in dataloader:\n",
        "        data = data.to(device)\n",
        "        target = target.to(device)\n",
        "        if(mode == 'ENCODER'):\n",
        "          # Predicted output\n",
        "          output = model(data)\n",
        "\n",
        "          # Calculate correct prediction count\n",
        "          pred = output.data.max(1, keepdim=True)[1] # get the index of the max log-probability\n",
        "          correct += pred.eq(target.data.view_as(pred)).cpu().sum()\n",
        "        elif(mode == 'DECODER'):\n",
        "          # Predicted output\n",
        "          output = torch.tensor(model.sample(data), device=device)\n",
        "\n",
        "          # True output\n",
        "          _, true = torch.max(target, dim=-1)\n",
        "          # Remove padding\n",
        "          true = torch.tensor(np.concatenate(([0],np.delete(true.cpu().numpy(),\n",
        "                                                            np.argwhere(true.cpu().numpy()==0)))), device=device)\n",
        "\n",
        "          # Calculate correct prediction count\n",
        "          correct += torch.sum(output == true)/output.shape[0]\n",
        "        elif(mode == 'MODULAR'):\n",
        "          # Predicted output\n",
        "          output = model.sample(data)\n",
        "\n",
        "          # True output\n",
        "          true = [labelDict[label.item()] for label in target]\n",
        "          true = torch.tensor([0] + [get_idx(c) for c in true[0]] + [1])\n",
        "          true = torch.full(output.shape, 20) if output.shape[0] != true.shape[0] else true\n",
        "\n",
        "          # Calculate correct prediction count\n",
        "          correct += torch.sum(output == true)/output.shape[0]\n",
        "        elif(mode == 'E2E'):\n",
        "          # Predicted output\n",
        "          output = torch.tensor(model.sample(data))\n",
        "\n",
        "          # True output\n",
        "          true = [labelDict[label.item()] for label in target]\n",
        "          true = torch.tensor([0] + [get_idx(c) for c in true[0]] + [1])\n",
        "          true = torch.full(output.shape, 20) if output.shape[0] != true.shape[0] else true\n",
        "\n",
        "          # Calculate correct prediction count\n",
        "          correct += torch.sum(output == true)/output.shape[0]\n",
        "\n",
        "    test_loss /= len(dataloader.dataset)\n",
        "    print('\\nTest set: Accuracy: {:.0f}/{} ({:.0f}%)\\n'.format(\n",
        "        correct, len(dataloader.dataset),\n",
        "        100 * correct / len(dataloader.dataset)))\n",
        "\n",
        "    return 100 * correct / len(dataloader.dataset)"
      ],
      "metadata": {
        "id": "DhHwgT3FUwWr"
      },
      "execution_count": 23,
      "outputs": []
    },
    {
      "cell_type": "code",
      "source": [
        "# options\n",
        "epochs = 10         # number of epochs to train\n",
        "lr = 0.01           # learning rate\n",
        "\n",
        "cnnEncoder = None\n",
        "linearClassifier = None\n",
        "# Convolutional net architecture ###############################################\n",
        "class CNN_Encoder(nn.Module):\n",
        "    def __init__(self, img_size=28):  # Assuming MNIST image size by default\n",
        "        super(CNN_Encoder, self).__init__()\n",
        "        self.features = nn.Sequential(\n",
        "            nn.Conv2d(1, 6, kernel_size=5, padding=0),\n",
        "            nn.ReLU(),\n",
        "            nn.MaxPool2d(2),\n",
        "            nn.Conv2d(6, 16, kernel_size=5, padding=0),\n",
        "            nn.ReLU(),\n",
        "            nn.MaxPool2d(2)\n",
        "        )\n",
        "        # Flatten the output for the linear layer\n",
        "        self.flatten_size = 16 * (img_size // 4 - 3) * (img_size // 4 - 3)\n",
        "        self.fc = nn.Linear(self.flatten_size, 84)\n",
        "\n",
        "    def forward(self, x):\n",
        "        x = self.features(x)\n",
        "        x = x.view(-1, self.flatten_size)\n",
        "        x = self.fc(x)\n",
        "        return x\n",
        "\n",
        "class Linear_Classifier(nn.Module):\n",
        "    def __init__(self):\n",
        "        super(Linear_Classifier, self).__init__()\n",
        "        self.classifier = nn.Linear(84, 10)\n",
        "\n",
        "    def forward(self, x):\n",
        "        return self.classifier(x)\n",
        "\n",
        "################################################################################\n",
        "cnnEncoder = CNN_Encoder()\n",
        "linearClassifier = Linear_Classifier()\n",
        "\n",
        "cnnClassifier = nn.Sequential(cnnEncoder, linearClassifier)\n",
        "enc_optimiser = optim.SGD(cnnClassifier.parameters(), lr=0.01)\n",
        "\n",
        "train(epochs, enc_optimiser, cnnClassifier, mode='ENCODER')\n",
        "acc = evaluate(cnnClassifier, test_loader, mode='ENCODER')\n",
        "print(f'Accuracy: {acc}%')\n",
        "assert(acc > 95)"
      ],
      "metadata": {
        "colab": {
          "base_uri": "https://localhost:8080/"
        },
        "id": "NcLuLS_NU0Lt",
        "outputId": "af7fd602-541e-40b6-cecb-3d06193f83ca"
      },
      "execution_count": 24,
      "outputs": [
        {
          "output_type": "stream",
          "name": "stdout",
          "text": [
            "Epoch [1/10], Step [100/469], Loss: 1.9534\n",
            "Epoch [1/10], Step [200/469], Loss: 0.5896\n",
            "Epoch [1/10], Step [300/469], Loss: 0.3314\n",
            "Epoch [1/10], Step [400/469], Loss: 0.4160\n",
            "Epoch [2/10], Step [100/469], Loss: 0.2322\n",
            "Epoch [2/10], Step [200/469], Loss: 0.2181\n",
            "Epoch [2/10], Step [300/469], Loss: 0.2405\n",
            "Epoch [2/10], Step [400/469], Loss: 0.1499\n",
            "Epoch [3/10], Step [100/469], Loss: 0.1421\n",
            "Epoch [3/10], Step [200/469], Loss: 0.1777\n",
            "Epoch [3/10], Step [300/469], Loss: 0.1729\n",
            "Epoch [3/10], Step [400/469], Loss: 0.1113\n",
            "Epoch [4/10], Step [100/469], Loss: 0.1245\n",
            "Epoch [4/10], Step [200/469], Loss: 0.0615\n",
            "Epoch [4/10], Step [300/469], Loss: 0.1657\n",
            "Epoch [4/10], Step [400/469], Loss: 0.1737\n",
            "Epoch [5/10], Step [100/469], Loss: 0.0809\n",
            "Epoch [5/10], Step [200/469], Loss: 0.0613\n",
            "Epoch [5/10], Step [300/469], Loss: 0.1001\n",
            "Epoch [5/10], Step [400/469], Loss: 0.1250\n",
            "Epoch [6/10], Step [100/469], Loss: 0.0940\n",
            "Epoch [6/10], Step [200/469], Loss: 0.0706\n",
            "Epoch [6/10], Step [300/469], Loss: 0.1304\n",
            "Epoch [6/10], Step [400/469], Loss: 0.0558\n",
            "Epoch [7/10], Step [100/469], Loss: 0.0334\n",
            "Epoch [7/10], Step [200/469], Loss: 0.0684\n",
            "Epoch [7/10], Step [300/469], Loss: 0.0623\n",
            "Epoch [7/10], Step [400/469], Loss: 0.0912\n",
            "Epoch [8/10], Step [100/469], Loss: 0.0572\n",
            "Epoch [8/10], Step [200/469], Loss: 0.1152\n",
            "Epoch [8/10], Step [300/469], Loss: 0.0738\n",
            "Epoch [8/10], Step [400/469], Loss: 0.0614\n",
            "Epoch [9/10], Step [100/469], Loss: 0.0367\n",
            "Epoch [9/10], Step [200/469], Loss: 0.0213\n",
            "Epoch [9/10], Step [300/469], Loss: 0.1512\n",
            "Epoch [9/10], Step [400/469], Loss: 0.0694\n",
            "Epoch [10/10], Step [100/469], Loss: 0.0584\n",
            "Epoch [10/10], Step [200/469], Loss: 0.0825\n",
            "Epoch [10/10], Step [300/469], Loss: 0.0593\n",
            "Epoch [10/10], Step [400/469], Loss: 0.0755\n",
            "\n",
            "Test set: Accuracy: 9795/10000 (98%)\n",
            "\n",
            "Accuracy: 97.94999694824219%\n"
          ]
        }
      ]
    },
    {
      "cell_type": "code",
      "source": [],
      "metadata": {
        "id": "QlQ6hhdnnOKG"
      },
      "execution_count": null,
      "outputs": []
    }
  ]
}